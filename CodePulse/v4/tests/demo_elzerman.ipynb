{
 "cells": [
  {
   "cell_type": "markdown",
   "metadata": {},
   "source": [
    "## Demo PulseBuilder"
   ]
  },
  {
   "cell_type": "code",
   "execution_count": 3,
   "metadata": {},
   "outputs": [
    {
     "name": "stdout",
     "output_type": "stream",
     "text": [
      "Fixing mpl_toolkit log scale transform bug of 2.2.x\n"
     ]
    }
   ],
   "source": [
    "from pyHegel import *\n",
    "from pyHegel.commands import *\n",
    "from pyHegel.instruments import *\n",
    "\n",
    "awg = instruments.tektronix.tektronix_AWG('TCPIP0::AWG5200-XXXX.mshome.net::inst0::INSTR')\n",
    "#rto = instruments.rohdeschwarz.rs_rto_scope('USB0::0x0AAD::0x0197::1329.7002k14-300206::INSTR')"
   ]
  },
  {
   "cell_type": "code",
   "execution_count": 2,
   "metadata": {},
   "outputs": [
    {
     "name": "stdout",
     "output_type": "stream",
     "text": [
      "C:\\Codes\\QIQSS-CODE\\CodePulse\\v4\n",
      "Running under ipython\n",
      "Running under ipython remote kernel\n",
      "setting qApp\n",
      "Redirecting __stderr__ for spyder\n",
      "Enabling qt5 gui loop handling in ipython\n"
     ]
    },
    {
     "data": {
      "image/png": "[encoded data removed]",
      "text/plain": [
       "<Figure size 432x288 with 2 Axes>"
      ]
     },
     "metadata": {},
     "output_type": "display_data"
    },
    {
     "data": {
      "image/png": "[encoded data removed]",
      "text/plain": [
       "<Figure size 432x288 with 2 Axes>"
      ]
     },
     "metadata": {},
     "output_type": "display_data"
    },
    {
     "name": "stdout",
     "output_type": "stream",
     "text": [
      "1e-05\n",
      "1.388888888888889e-05\n",
      "1.777777777777778e-05\n",
      "2.1666666666666667e-05\n",
      "2.5555555555555554e-05\n",
      "2.9444444444444448e-05\n",
      "3.3333333333333335e-05\n",
      "3.722222222222222e-05\n",
      "4.111111111111111e-05\n",
      "4.5e-05\n"
     ]
    }
   ],
   "source": [
    "# Launch PulseBuilder the first time.\n",
    "# Build a pulse and export to code\n",
    "%cd \"C:\\Codes\\QIQSS-CODE\\CodePulse\\v4\\\"\n",
    "%run -i pulsebuilder.py"
   ]
  },
  {
   "cell_type": "code",
   "execution_count": 4,
   "metadata": {},
   "outputs": [
    {
     "name": "stdout",
     "output_type": "stream",
     "text": [
      "C:\\Codes\\QIQSS-CODE\\CodePulse\\v4\n"
     ]
    }
   ],
   "source": [
    "%cd \"C:/Codes/QIQSS-CODE/CodePulse/v4\"\n",
    "%run -i src/Model.py\n",
    "## Code generated from PulseBuilder ##\n",
    "SR = 10000.0\n",
    "segment_0 = Segment(duration=0.002, offset=0.005, mark=(0, 0), waveform=None, envelope=None, sweep_dict={'waveform': {}}) \n",
    "segment_1 = Segment(duration=0.007, offset=0.0025, mark=(0, 0.5), waveform=None, envelope=None, sweep_dict={'waveform': {}, 'offset': (0.0, 0.005)}) \n",
    "segment_2 = Segment(duration=0.007, offset=0, mark=(0, 0), waveform=None, envelope=None, sweep_dict={'waveform': {}}) \n",
    "pulse = Pulse(*[segment_0, segment_1, segment_2])\n",
    "nb_rep = 10\n",
    "compensate = 0.0\n",
    "sequence = pulse.genSequence(nb_rep=nb_rep, compensate=compensate)\n",
    "# To plot:\n",
    "#plotPulse(pulse, SR)\n",
    "#plotPulse(sequence, SR, superpose=False)\n",
    "# To reload:\n",
    "#%run -i pulsebuilder.py\n",
    "#pb.loadPulse(pulse, nb_rep=nb_rep, compensate=compensate)\n"
   ]
  },
  {
   "cell_type": "code",
   "execution_count": 7,
   "metadata": {},
   "outputs": [
    {
     "name": "stdout",
     "output_type": "stream",
     "text": [
      "Waveform elzerman was deleted\n",
      "Waveform elzerman was created\n"
     ]
    }
   ],
   "source": [
    "# Get our generated sequence and upload it\n",
    "AWG_SR = 3200\n",
    "WV_NAME = 'elzerman'\n",
    "\n",
    "wav = sequence.getWaveNormalized(AWG_SR)\n",
    "marks = sequence.getMarks(AWG_SR, val_low=-1, val_high=1)\n",
    "awg.waveform_create(wav,\n",
    "                    WV_NAME,\n",
    "                    sample_rate=AWG_SR,\n",
    "                    amplitude=0.750,\n",
    "                    force=True)\n",
    "awg.waveform_marker_data.set(marks,\n",
    "                             wfname=WV_NAME)\n",
    "awg.current_wfname.set(WV_NAME)\n"
   ]
  }
 ],
 "metadata": {
  "kernelspec": {
   "display_name": "Python 3 (Spyder)",
   "language": "python3",
   "name": "python3"
  },
  "language_info": {
   "codemirror_mode": {
    "name": "ipython",
    "version": 2
   },
   "file_extension": ".py",
   "mimetype": "text/x-python",
   "name": "python",
   "nbconvert_exporter": "python",
   "pygments_lexer": "ipython2",
   "version": "2.7.15"
  }
 },
 "nbformat": 4,
 "nbformat_minor": 4
}
